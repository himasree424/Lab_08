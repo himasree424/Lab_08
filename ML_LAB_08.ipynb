{
 "cells": [
  {
   "cell_type": "code",
   "execution_count": 1,
   "id": "ac158cf0",
   "metadata": {},
   "outputs": [],
   "source": [
    "#BL.EN.U4CSE21137\n",
    "#Nichenametla Hima Sree"
   ]
  },
  {
   "cell_type": "code",
   "execution_count": 2,
   "id": "97a963ff",
   "metadata": {},
   "outputs": [],
   "source": [
    "import numpy as np\n",
    "import pandas as pd"
   ]
  },
  {
   "cell_type": "code",
   "execution_count": 3,
   "id": "c2bc2790",
   "metadata": {},
   "outputs": [
    {
     "data": {
      "text/html": [
       "<div>\n",
       "<style scoped>\n",
       "    .dataframe tbody tr th:only-of-type {\n",
       "        vertical-align: middle;\n",
       "    }\n",
       "\n",
       "    .dataframe tbody tr th {\n",
       "        vertical-align: top;\n",
       "    }\n",
       "\n",
       "    .dataframe thead th {\n",
       "        text-align: right;\n",
       "    }\n",
       "</style>\n",
       "<table border=\"1\" class=\"dataframe\">\n",
       "  <thead>\n",
       "    <tr style=\"text-align: right;\">\n",
       "      <th></th>\n",
       "      <th>Age</th>\n",
       "      <th>Income</th>\n",
       "      <th>Student</th>\n",
       "      <th>Credit_Rating</th>\n",
       "      <th>Buys_Computer</th>\n",
       "    </tr>\n",
       "  </thead>\n",
       "  <tbody>\n",
       "    <tr>\n",
       "      <th>0</th>\n",
       "      <td>&lt;=30</td>\n",
       "      <td>high</td>\n",
       "      <td>no</td>\n",
       "      <td>fair</td>\n",
       "      <td>no</td>\n",
       "    </tr>\n",
       "    <tr>\n",
       "      <th>1</th>\n",
       "      <td>&lt;=30</td>\n",
       "      <td>high</td>\n",
       "      <td>no</td>\n",
       "      <td>excellent</td>\n",
       "      <td>no</td>\n",
       "    </tr>\n",
       "    <tr>\n",
       "      <th>2</th>\n",
       "      <td>31---40</td>\n",
       "      <td>high</td>\n",
       "      <td>no</td>\n",
       "      <td>fair</td>\n",
       "      <td>yes</td>\n",
       "    </tr>\n",
       "    <tr>\n",
       "      <th>3</th>\n",
       "      <td>&gt;40</td>\n",
       "      <td>medium</td>\n",
       "      <td>no</td>\n",
       "      <td>fair</td>\n",
       "      <td>yes</td>\n",
       "    </tr>\n",
       "    <tr>\n",
       "      <th>4</th>\n",
       "      <td>&gt;40</td>\n",
       "      <td>low</td>\n",
       "      <td>yes</td>\n",
       "      <td>fair</td>\n",
       "      <td>yes</td>\n",
       "    </tr>\n",
       "    <tr>\n",
       "      <th>5</th>\n",
       "      <td>&gt;40</td>\n",
       "      <td>low</td>\n",
       "      <td>yes</td>\n",
       "      <td>excellent</td>\n",
       "      <td>no</td>\n",
       "    </tr>\n",
       "    <tr>\n",
       "      <th>6</th>\n",
       "      <td>31---40</td>\n",
       "      <td>low</td>\n",
       "      <td>yes</td>\n",
       "      <td>excellent</td>\n",
       "      <td>yes</td>\n",
       "    </tr>\n",
       "    <tr>\n",
       "      <th>7</th>\n",
       "      <td>&lt;=30</td>\n",
       "      <td>medium</td>\n",
       "      <td>no</td>\n",
       "      <td>fair</td>\n",
       "      <td>no</td>\n",
       "    </tr>\n",
       "    <tr>\n",
       "      <th>8</th>\n",
       "      <td>&lt;=30</td>\n",
       "      <td>low</td>\n",
       "      <td>yes</td>\n",
       "      <td>fair</td>\n",
       "      <td>yes</td>\n",
       "    </tr>\n",
       "    <tr>\n",
       "      <th>9</th>\n",
       "      <td>&gt;40</td>\n",
       "      <td>medium</td>\n",
       "      <td>yes</td>\n",
       "      <td>fair</td>\n",
       "      <td>yes</td>\n",
       "    </tr>\n",
       "    <tr>\n",
       "      <th>10</th>\n",
       "      <td>&lt;=30</td>\n",
       "      <td>medium</td>\n",
       "      <td>yes</td>\n",
       "      <td>excellent</td>\n",
       "      <td>yes</td>\n",
       "    </tr>\n",
       "    <tr>\n",
       "      <th>11</th>\n",
       "      <td>31---40</td>\n",
       "      <td>medium</td>\n",
       "      <td>no</td>\n",
       "      <td>excellent</td>\n",
       "      <td>yes</td>\n",
       "    </tr>\n",
       "    <tr>\n",
       "      <th>12</th>\n",
       "      <td>31---40</td>\n",
       "      <td>high</td>\n",
       "      <td>yes</td>\n",
       "      <td>fair</td>\n",
       "      <td>yes</td>\n",
       "    </tr>\n",
       "    <tr>\n",
       "      <th>13</th>\n",
       "      <td>&gt;40</td>\n",
       "      <td>medium</td>\n",
       "      <td>no</td>\n",
       "      <td>excellent</td>\n",
       "      <td>no</td>\n",
       "    </tr>\n",
       "  </tbody>\n",
       "</table>\n",
       "</div>"
      ],
      "text/plain": [
       "        Age  Income Student Credit_Rating Buys_Computer\n",
       "0      <=30    high      no          fair            no\n",
       "1      <=30    high      no     excellent            no\n",
       "2   31---40    high      no          fair           yes\n",
       "3       >40  medium      no          fair           yes\n",
       "4       >40     low     yes          fair           yes\n",
       "5       >40     low     yes     excellent            no\n",
       "6   31---40     low     yes     excellent           yes\n",
       "7      <=30  medium      no          fair            no\n",
       "8      <=30     low     yes          fair           yes\n",
       "9       >40  medium     yes          fair           yes\n",
       "10     <=30  medium     yes     excellent           yes\n",
       "11  31---40  medium      no     excellent           yes\n",
       "12  31---40    high     yes          fair           yes\n",
       "13      >40  medium      no     excellent            no"
      ]
     },
     "execution_count": 3,
     "metadata": {},
     "output_type": "execute_result"
    }
   ],
   "source": [
    "data = pd.read_csv(\"Lab08_data.csv\")\n",
    "data"
   ]
  },
  {
   "cell_type": "code",
   "execution_count": 6,
   "id": "81ad93da",
   "metadata": {},
   "outputs": [
    {
     "name": "stdout",
     "output_type": "stream",
     "text": [
      "0.6428571428571429\n",
      "0.35714285714285715\n"
     ]
    }
   ],
   "source": [
    "n = len(data)\n",
    "count_yes = count_no = 0\n",
    "for i in range(0,n):\n",
    "    if data['Buys_Computer'][i] == \"yes\":\n",
    "        count_yes += 1\n",
    "    if data['Buys_Computer'][i] == \"no\":\n",
    "        count_no += 1\n",
    "pr_yes = count_yes/n\n",
    "pr_no = count_no/n\n",
    "print(pr_yes)\n",
    "print(pr_no)"
   ]
  },
  {
   "cell_type": "code",
   "execution_count": 10,
   "id": "81ac763e",
   "metadata": {},
   "outputs": [],
   "source": [
    "def cond_prob(value,feature, target):\n",
    "    d1 = data[data['Buys_Computer'] == target]\n",
    "    d2 = d1[d1[feature] == value]\n",
    "    return len(d2)/len(d1)"
   ]
  },
  {
   "cell_type": "code",
   "execution_count": 15,
   "id": "07e8188d",
   "metadata": {},
   "outputs": [
    {
     "name": "stdout",
     "output_type": "stream",
     "text": [
      "0.2222222222222222\n",
      "0.4444444444444444\n",
      "0.3333333333333333\n",
      "0.4\n",
      "0.4\n",
      "0.2\n"
     ]
    }
   ],
   "source": [
    "#Income\n",
    "prob1 = cond_prob(\"high\",\"Income\",\"yes\")\n",
    "print(prob1)\n",
    "prob2 = cond_prob(\"medium\",\"Income\",\"yes\")\n",
    "print(prob2)\n",
    "prob3 = cond_prob(\"low\",\"Income\",\"yes\")\n",
    "print(prob3)\n",
    "prob4 = cond_prob(\"high\",\"Income\",\"no\")\n",
    "print(prob4)\n",
    "prob5 = cond_prob(\"medium\",\"Income\",\"no\")\n",
    "print(prob5)\n",
    "prob6 = cond_prob(\"low\",\"Income\",\"no\")\n",
    "print(prob6)"
   ]
  },
  {
   "cell_type": "code",
   "execution_count": 20,
   "id": "5713fc0d",
   "metadata": {},
   "outputs": [
    {
     "name": "stdout",
     "output_type": "stream",
     "text": [
      "0.6666666666666666\n",
      "0.3333333333333333\n",
      "0.2\n",
      "0.8\n"
     ]
    }
   ],
   "source": [
    "#Student\n",
    "prob1 = cond_prob(\"yes\",\"Student\",\"yes\")\n",
    "print(prob1)\n",
    "prob2 = cond_prob(\"no\",\"Student\",\"yes\")\n",
    "print(prob2)\n",
    "prob3 = cond_prob(\"yes\",\"Student\",\"no\")\n",
    "print(prob3)\n",
    "prob4 = cond_prob(\"no\",\"Student\",\"no\")\n",
    "print(prob4)"
   ]
  },
  {
   "cell_type": "code",
   "execution_count": 24,
   "id": "c6487f75",
   "metadata": {},
   "outputs": [
    {
     "name": "stdout",
     "output_type": "stream",
     "text": [
      "0.6666666666666666\n",
      "0.3333333333333333\n",
      "0.4\n",
      "0.6\n"
     ]
    }
   ],
   "source": [
    "#credit rating\n",
    "prob1 = cond_prob(\"fair\",\"Credit_Rating\",\"yes\")\n",
    "print(prob1)\n",
    "prob2 = cond_prob(\"excellent\",\"Credit_Rating\",\"yes\")\n",
    "print(prob2)\n",
    "prob3 = cond_prob(\"fair\",\"Credit_Rating\",\"no\")\n",
    "print(prob3)\n",
    "prob4 = cond_prob(\"excellent\",\"Credit_Rating\",\"no\")\n",
    "print(prob4)"
   ]
  },
  {
   "cell_type": "code",
   "execution_count": 27,
   "id": "a399d45a",
   "metadata": {},
   "outputs": [
    {
     "name": "stdout",
     "output_type": "stream",
     "text": [
      "0.2222222222222222\n",
      "0.0\n",
      "0.3333333333333333\n",
      "0.6\n",
      "0.0\n",
      "0.4\n"
     ]
    }
   ],
   "source": [
    "#Age\n",
    "prob1 = cond_prob(\"<=30\",\"Age\",\"yes\")\n",
    "print(prob1)\n",
    "prob2 = cond_prob(\"31...40\",\"Age\",\"yes\")\n",
    "print(prob2)\n",
    "prob3 = cond_prob(\">40\",\"Age\",\"yes\")\n",
    "print(prob3)\n",
    "prob4 = cond_prob(\"<=30\",\"Age\",\"no\")\n",
    "print(prob4)\n",
    "prob5 = cond_prob(\"31...40\",\"Age\",\"no\")\n",
    "print(prob5)\n",
    "prob6 = cond_prob(\">40\",\"Age\",\"no\")\n",
    "print(prob6)"
   ]
  },
  {
   "cell_type": "code",
   "execution_count": null,
   "id": "82584e7e",
   "metadata": {},
   "outputs": [],
   "source": []
  }
 ],
 "metadata": {
  "kernelspec": {
   "display_name": "Python 3 (ipykernel)",
   "language": "python",
   "name": "python3"
  },
  "language_info": {
   "codemirror_mode": {
    "name": "ipython",
    "version": 3
   },
   "file_extension": ".py",
   "mimetype": "text/x-python",
   "name": "python",
   "nbconvert_exporter": "python",
   "pygments_lexer": "ipython3",
   "version": "3.11.4"
  }
 },
 "nbformat": 4,
 "nbformat_minor": 5
}
